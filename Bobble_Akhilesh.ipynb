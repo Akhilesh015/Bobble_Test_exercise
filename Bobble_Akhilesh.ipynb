{
  "nbformat": 4,
  "nbformat_minor": 0,
  "metadata": {
    "colab": {
      "name": "Bobble_Akhilesh.ipynb",
      "provenance": [],
      "collapsed_sections": [],
      "authorship_tag": "ABX9TyPS1/SM60BzLMVZa5ehd+1V",
      "include_colab_link": true
    },
    "kernelspec": {
      "name": "python3",
      "display_name": "Python 3"
    }
  },
  "cells": [
    {
      "cell_type": "markdown",
      "metadata": {
        "id": "view-in-github",
        "colab_type": "text"
      },
      "source": [
        "<a href=\"https://colab.research.google.com/github/Akhilesh015/Bobble_Test_exercise/blob/master/Bobble_Akhilesh.ipynb\" target=\"_parent\"><img src=\"https://colab.research.google.com/assets/colab-badge.svg\" alt=\"Open In Colab\"/></a>"
      ]
    },
    {
      "cell_type": "markdown",
      "metadata": {
        "id": "pWcVGD1rt2B7"
      },
      "source": [
        "Part C question 5\n",
        "\n"
      ]
    },
    {
      "cell_type": "code",
      "metadata": {
        "id": "ngH3S6I0bByr",
        "outputId": "2cc44c42-2915-43a3-e0c5-1c7c3e821110",
        "colab": {
          "base_uri": "https://localhost:8080/",
          "height": 70
        }
      },
      "source": [
        "import numpy as np\n",
        "import pandas as pd\n",
        "import matplotlib.pyplot as plt\n",
        "import seaborn as sns"
      ],
      "execution_count": 1,
      "outputs": [
        {
          "output_type": "stream",
          "text": [
            "/usr/local/lib/python3.6/dist-packages/statsmodels/tools/_testing.py:19: FutureWarning: pandas.util.testing is deprecated. Use the functions in the public API at pandas.testing instead.\n",
            "  import pandas.util.testing as tm\n"
          ],
          "name": "stderr"
        }
      ]
    },
    {
      "cell_type": "code",
      "metadata": {
        "id": "fkqVQWabcfnR"
      },
      "source": [
        "val=pd.read_csv(\"validation.csv\")\n",
        "train=pd.read_csv(\"train.csv\")"
      ],
      "execution_count": 2,
      "outputs": []
    },
    {
      "cell_type": "code",
      "metadata": {
        "id": "zgfiZhovcqO3",
        "outputId": "7f2c0a4a-7652-4d8b-d8a5-90244185937c",
        "colab": {
          "base_uri": "https://localhost:8080/",
          "height": 195
        }
      },
      "source": [
        "train.head()"
      ],
      "execution_count": 3,
      "outputs": [
        {
          "output_type": "execute_result",
          "data": {
            "text/html": [
              "<div>\n",
              "<style scoped>\n",
              "    .dataframe tbody tr th:only-of-type {\n",
              "        vertical-align: middle;\n",
              "    }\n",
              "\n",
              "    .dataframe tbody tr th {\n",
              "        vertical-align: top;\n",
              "    }\n",
              "\n",
              "    .dataframe thead th {\n",
              "        text-align: right;\n",
              "    }\n",
              "</style>\n",
              "<table border=\"1\" class=\"dataframe\">\n",
              "  <thead>\n",
              "    <tr style=\"text-align: right;\">\n",
              "      <th></th>\n",
              "      <th>dbfs</th>\n",
              "      <th>rms</th>\n",
              "      <th>avg</th>\n",
              "      <th>mode</th>\n",
              "      <th>std</th>\n",
              "      <th>dcoffset</th>\n",
              "      <th>filename</th>\n",
              "      <th>target</th>\n",
              "    </tr>\n",
              "  </thead>\n",
              "  <tbody>\n",
              "    <tr>\n",
              "      <th>0</th>\n",
              "      <td>-23.342901</td>\n",
              "      <td>0.068081</td>\n",
              "      <td>9.726773e-06</td>\n",
              "      <td>0.000000</td>\n",
              "      <td>0.068081</td>\n",
              "      <td>0.000000</td>\n",
              "      <td>BPCRGRYCXPI</td>\n",
              "      <td>silent</td>\n",
              "    </tr>\n",
              "    <tr>\n",
              "      <th>1</th>\n",
              "      <td>-32.613091</td>\n",
              "      <td>0.023555</td>\n",
              "      <td>-1.376716e-05</td>\n",
              "      <td>-0.033556</td>\n",
              "      <td>0.023555</td>\n",
              "      <td>-0.000061</td>\n",
              "      <td>UE4OHIQ6JJO</td>\n",
              "      <td>noise</td>\n",
              "    </tr>\n",
              "    <tr>\n",
              "      <th>2</th>\n",
              "      <td>-33.918120</td>\n",
              "      <td>0.020217</td>\n",
              "      <td>-2.388173e-05</td>\n",
              "      <td>-0.020961</td>\n",
              "      <td>0.020217</td>\n",
              "      <td>-0.000061</td>\n",
              "      <td>N0B0Z81N2KQ</td>\n",
              "      <td>noise</td>\n",
              "    </tr>\n",
              "    <tr>\n",
              "      <th>3</th>\n",
              "      <td>-28.287812</td>\n",
              "      <td>0.038521</td>\n",
              "      <td>-2.014348e-06</td>\n",
              "      <td>0.000122</td>\n",
              "      <td>0.038521</td>\n",
              "      <td>-0.000031</td>\n",
              "      <td>IL6D7IEAKXH</td>\n",
              "      <td>silent</td>\n",
              "    </tr>\n",
              "    <tr>\n",
              "      <th>4</th>\n",
              "      <td>-24.189081</td>\n",
              "      <td>0.061746</td>\n",
              "      <td>-6.716756e-07</td>\n",
              "      <td>-0.000122</td>\n",
              "      <td>0.061746</td>\n",
              "      <td>-0.000031</td>\n",
              "      <td>6VKOI64H5QS</td>\n",
              "      <td>silent</td>\n",
              "    </tr>\n",
              "  </tbody>\n",
              "</table>\n",
              "</div>"
            ],
            "text/plain": [
              "        dbfs       rms           avg  ...  dcoffset     filename  target\n",
              "0 -23.342901  0.068081  9.726773e-06  ...  0.000000  BPCRGRYCXPI  silent\n",
              "1 -32.613091  0.023555 -1.376716e-05  ... -0.000061  UE4OHIQ6JJO   noise\n",
              "2 -33.918120  0.020217 -2.388173e-05  ... -0.000061  N0B0Z81N2KQ   noise\n",
              "3 -28.287812  0.038521 -2.014348e-06  ... -0.000031  IL6D7IEAKXH  silent\n",
              "4 -24.189081  0.061746 -6.716756e-07  ... -0.000031  6VKOI64H5QS  silent\n",
              "\n",
              "[5 rows x 8 columns]"
            ]
          },
          "metadata": {
            "tags": []
          },
          "execution_count": 3
        }
      ]
    },
    {
      "cell_type": "code",
      "metadata": {
        "id": "TH5OPW52dbK8",
        "outputId": "fd304b57-d8d7-4b84-91e1-1436c046c499",
        "colab": {
          "base_uri": "https://localhost:8080/",
          "height": 284
        }
      },
      "source": [
        "train.describe()"
      ],
      "execution_count": 4,
      "outputs": [
        {
          "output_type": "execute_result",
          "data": {
            "text/html": [
              "<div>\n",
              "<style scoped>\n",
              "    .dataframe tbody tr th:only-of-type {\n",
              "        vertical-align: middle;\n",
              "    }\n",
              "\n",
              "    .dataframe tbody tr th {\n",
              "        vertical-align: top;\n",
              "    }\n",
              "\n",
              "    .dataframe thead th {\n",
              "        text-align: right;\n",
              "    }\n",
              "</style>\n",
              "<table border=\"1\" class=\"dataframe\">\n",
              "  <thead>\n",
              "    <tr style=\"text-align: right;\">\n",
              "      <th></th>\n",
              "      <th>dbfs</th>\n",
              "      <th>rms</th>\n",
              "      <th>avg</th>\n",
              "      <th>mode</th>\n",
              "      <th>std</th>\n",
              "      <th>dcoffset</th>\n",
              "    </tr>\n",
              "  </thead>\n",
              "  <tbody>\n",
              "    <tr>\n",
              "      <th>count</th>\n",
              "      <td>2000.000000</td>\n",
              "      <td>2000.000000</td>\n",
              "      <td>2000.000000</td>\n",
              "      <td>2000.000000</td>\n",
              "      <td>2000.000000</td>\n",
              "      <td>2000.000000</td>\n",
              "    </tr>\n",
              "    <tr>\n",
              "      <th>mean</th>\n",
              "      <td>-24.365061</td>\n",
              "      <td>0.076494</td>\n",
              "      <td>-0.000208</td>\n",
              "      <td>-0.078601</td>\n",
              "      <td>0.076394</td>\n",
              "      <td>-0.001530</td>\n",
              "    </tr>\n",
              "    <tr>\n",
              "      <th>std</th>\n",
              "      <td>8.112060</td>\n",
              "      <td>0.063158</td>\n",
              "      <td>0.005856</td>\n",
              "      <td>0.160891</td>\n",
              "      <td>0.063007</td>\n",
              "      <td>0.014291</td>\n",
              "    </tr>\n",
              "    <tr>\n",
              "      <th>min</th>\n",
              "      <td>-67.845098</td>\n",
              "      <td>0.000406</td>\n",
              "      <td>-0.012704</td>\n",
              "      <td>-1.218606</td>\n",
              "      <td>0.000406</td>\n",
              "      <td>-0.257812</td>\n",
              "    </tr>\n",
              "    <tr>\n",
              "      <th>25%</th>\n",
              "      <td>-27.517713</td>\n",
              "      <td>0.041780</td>\n",
              "      <td>-0.000136</td>\n",
              "      <td>-0.093902</td>\n",
              "      <td>0.041780</td>\n",
              "      <td>-0.000178</td>\n",
              "    </tr>\n",
              "    <tr>\n",
              "      <th>50%</th>\n",
              "      <td>-24.031654</td>\n",
              "      <td>0.061847</td>\n",
              "      <td>-0.000014</td>\n",
              "      <td>-0.001987</td>\n",
              "      <td>0.061847</td>\n",
              "      <td>-0.000031</td>\n",
              "    </tr>\n",
              "    <tr>\n",
              "      <th>75%</th>\n",
              "      <td>-21.093569</td>\n",
              "      <td>0.086572</td>\n",
              "      <td>0.000004</td>\n",
              "      <td>0.000000</td>\n",
              "      <td>0.086543</td>\n",
              "      <td>0.000000</td>\n",
              "    </tr>\n",
              "    <tr>\n",
              "      <th>max</th>\n",
              "      <td>38.687602</td>\n",
              "      <td>0.463202</td>\n",
              "      <td>0.080826</td>\n",
              "      <td>0.999939</td>\n",
              "      <td>0.463201</td>\n",
              "      <td>0.024780</td>\n",
              "    </tr>\n",
              "  </tbody>\n",
              "</table>\n",
              "</div>"
            ],
            "text/plain": [
              "              dbfs          rms  ...          std     dcoffset\n",
              "count  2000.000000  2000.000000  ...  2000.000000  2000.000000\n",
              "mean    -24.365061     0.076494  ...     0.076394    -0.001530\n",
              "std       8.112060     0.063158  ...     0.063007     0.014291\n",
              "min     -67.845098     0.000406  ...     0.000406    -0.257812\n",
              "25%     -27.517713     0.041780  ...     0.041780    -0.000178\n",
              "50%     -24.031654     0.061847  ...     0.061847    -0.000031\n",
              "75%     -21.093569     0.086572  ...     0.086543     0.000000\n",
              "max      38.687602     0.463202  ...     0.463201     0.024780\n",
              "\n",
              "[8 rows x 6 columns]"
            ]
          },
          "metadata": {
            "tags": []
          },
          "execution_count": 4
        }
      ]
    },
    {
      "cell_type": "markdown",
      "metadata": {
        "id": "59AImvNpeAJp"
      },
      "source": [
        "DATA PREPROCESSING"
      ]
    },
    {
      "cell_type": "code",
      "metadata": {
        "id": "5VyEYt0ieqVb"
      },
      "source": [
        "train.drop('filename',axis=1,inplace=True) #filename is not important for the final target variable so we drop the whole column.\n",
        "val.drop('filename',axis=1,inplace=True)"
      ],
      "execution_count": 5,
      "outputs": []
    },
    {
      "cell_type": "code",
      "metadata": {
        "id": "8xJ2BE_7fGWg",
        "outputId": "51875bb4-3ff8-4543-ec08-3ac6d0d0e9aa",
        "colab": {
          "base_uri": "https://localhost:8080/",
          "height": 151
        }
      },
      "source": [
        "train.isnull().sum() #not a single null value"
      ],
      "execution_count": 6,
      "outputs": [
        {
          "output_type": "execute_result",
          "data": {
            "text/plain": [
              "dbfs        0\n",
              "rms         0\n",
              "avg         0\n",
              "mode        0\n",
              "std         0\n",
              "dcoffset    0\n",
              "target      0\n",
              "dtype: int64"
            ]
          },
          "metadata": {
            "tags": []
          },
          "execution_count": 6
        }
      ]
    },
    {
      "cell_type": "code",
      "metadata": {
        "id": "ROXRrAlefZLN"
      },
      "source": [
        "from sklearn.preprocessing import StandardScaler\n",
        "\n",
        "sc_train = StandardScaler()"
      ],
      "execution_count": 7,
      "outputs": []
    },
    {
      "cell_type": "code",
      "metadata": {
        "id": "JQb-8h8pgqeP"
      },
      "source": [
        "columns_to_scale = ['dbfs', 'rms', 'avg', 'mode', 'std','dcoffset']\n",
        "train[columns_to_scale] = sc_train.fit_transform(train[columns_to_scale])\n",
        "val[columns_to_scale] = sc_train.fit_transform(val[columns_to_scale])\n"
      ],
      "execution_count": 8,
      "outputs": []
    },
    {
      "cell_type": "code",
      "metadata": {
        "id": "qnibkWg8hgt4",
        "outputId": "6cf8dec0-59ec-4b5a-b5a2-70f28a8a3d30",
        "colab": {
          "base_uri": "https://localhost:8080/",
          "height": 402
        }
      },
      "source": [
        "train"
      ],
      "execution_count": 9,
      "outputs": [
        {
          "output_type": "execute_result",
          "data": {
            "text/html": [
              "<div>\n",
              "<style scoped>\n",
              "    .dataframe tbody tr th:only-of-type {\n",
              "        vertical-align: middle;\n",
              "    }\n",
              "\n",
              "    .dataframe tbody tr th {\n",
              "        vertical-align: top;\n",
              "    }\n",
              "\n",
              "    .dataframe thead th {\n",
              "        text-align: right;\n",
              "    }\n",
              "</style>\n",
              "<table border=\"1\" class=\"dataframe\">\n",
              "  <thead>\n",
              "    <tr style=\"text-align: right;\">\n",
              "      <th></th>\n",
              "      <th>dbfs</th>\n",
              "      <th>rms</th>\n",
              "      <th>avg</th>\n",
              "      <th>mode</th>\n",
              "      <th>std</th>\n",
              "      <th>dcoffset</th>\n",
              "      <th>target</th>\n",
              "    </tr>\n",
              "  </thead>\n",
              "  <tbody>\n",
              "    <tr>\n",
              "      <th>0</th>\n",
              "      <td>0.126036</td>\n",
              "      <td>-0.133237</td>\n",
              "      <td>0.037227</td>\n",
              "      <td>0.488656</td>\n",
              "      <td>-0.131973</td>\n",
              "      <td>0.107063</td>\n",
              "      <td>silent</td>\n",
              "    </tr>\n",
              "    <tr>\n",
              "      <th>1</th>\n",
              "      <td>-1.017016</td>\n",
              "      <td>-0.838398</td>\n",
              "      <td>0.033214</td>\n",
              "      <td>0.280042</td>\n",
              "      <td>-0.838826</td>\n",
              "      <td>0.102791</td>\n",
              "      <td>noise</td>\n",
              "    </tr>\n",
              "    <tr>\n",
              "      <th>2</th>\n",
              "      <td>-1.177931</td>\n",
              "      <td>-0.891267</td>\n",
              "      <td>0.031486</td>\n",
              "      <td>0.358344</td>\n",
              "      <td>-0.891822</td>\n",
              "      <td>0.102791</td>\n",
              "      <td>noise</td>\n",
              "    </tr>\n",
              "    <tr>\n",
              "      <th>3</th>\n",
              "      <td>-0.483691</td>\n",
              "      <td>-0.601385</td>\n",
              "      <td>0.035221</td>\n",
              "      <td>0.489415</td>\n",
              "      <td>-0.601244</td>\n",
              "      <td>0.104927</td>\n",
              "      <td>silent</td>\n",
              "    </tr>\n",
              "    <tr>\n",
              "      <th>4</th>\n",
              "      <td>0.021699</td>\n",
              "      <td>-0.233569</td>\n",
              "      <td>0.035451</td>\n",
              "      <td>0.487897</td>\n",
              "      <td>-0.232545</td>\n",
              "      <td>0.104927</td>\n",
              "      <td>silent</td>\n",
              "    </tr>\n",
              "    <tr>\n",
              "      <th>...</th>\n",
              "      <td>...</td>\n",
              "      <td>...</td>\n",
              "      <td>...</td>\n",
              "      <td>...</td>\n",
              "      <td>...</td>\n",
              "      <td>...</td>\n",
              "      <td>...</td>\n",
              "    </tr>\n",
              "    <tr>\n",
              "      <th>1995</th>\n",
              "      <td>-0.752365</td>\n",
              "      <td>-0.736510</td>\n",
              "      <td>0.033628</td>\n",
              "      <td>0.490554</td>\n",
              "      <td>-0.736693</td>\n",
              "      <td>0.104927</td>\n",
              "      <td>silent</td>\n",
              "    </tr>\n",
              "    <tr>\n",
              "      <th>1996</th>\n",
              "      <td>-1.096543</td>\n",
              "      <td>-0.866342</td>\n",
              "      <td>0.031801</td>\n",
              "      <td>0.098315</td>\n",
              "      <td>-0.866837</td>\n",
              "      <td>0.105530</td>\n",
              "      <td>noise</td>\n",
              "    </tr>\n",
              "    <tr>\n",
              "      <th>1997</th>\n",
              "      <td>-0.115356</td>\n",
              "      <td>-0.351089</td>\n",
              "      <td>-0.534629</td>\n",
              "      <td>0.468166</td>\n",
              "      <td>-0.351977</td>\n",
              "      <td>-0.127888</td>\n",
              "      <td>silent</td>\n",
              "    </tr>\n",
              "    <tr>\n",
              "      <th>1998</th>\n",
              "      <td>1.277550</td>\n",
              "      <td>1.966369</td>\n",
              "      <td>0.034417</td>\n",
              "      <td>-2.168767</td>\n",
              "      <td>1.972671</td>\n",
              "      <td>0.104927</td>\n",
              "      <td>noise</td>\n",
              "    </tr>\n",
              "    <tr>\n",
              "      <th>1999</th>\n",
              "      <td>-0.536752</td>\n",
              "      <td>-0.630958</td>\n",
              "      <td>0.035125</td>\n",
              "      <td>0.488467</td>\n",
              "      <td>-0.630888</td>\n",
              "      <td>0.104927</td>\n",
              "      <td>silent</td>\n",
              "    </tr>\n",
              "  </tbody>\n",
              "</table>\n",
              "<p>2000 rows × 7 columns</p>\n",
              "</div>"
            ],
            "text/plain": [
              "          dbfs       rms       avg      mode       std  dcoffset  target\n",
              "0     0.126036 -0.133237  0.037227  0.488656 -0.131973  0.107063  silent\n",
              "1    -1.017016 -0.838398  0.033214  0.280042 -0.838826  0.102791   noise\n",
              "2    -1.177931 -0.891267  0.031486  0.358344 -0.891822  0.102791   noise\n",
              "3    -0.483691 -0.601385  0.035221  0.489415 -0.601244  0.104927  silent\n",
              "4     0.021699 -0.233569  0.035451  0.487897 -0.232545  0.104927  silent\n",
              "...        ...       ...       ...       ...       ...       ...     ...\n",
              "1995 -0.752365 -0.736510  0.033628  0.490554 -0.736693  0.104927  silent\n",
              "1996 -1.096543 -0.866342  0.031801  0.098315 -0.866837  0.105530   noise\n",
              "1997 -0.115356 -0.351089 -0.534629  0.468166 -0.351977 -0.127888  silent\n",
              "1998  1.277550  1.966369  0.034417 -2.168767  1.972671  0.104927   noise\n",
              "1999 -0.536752 -0.630958  0.035125  0.488467 -0.630888  0.104927  silent\n",
              "\n",
              "[2000 rows x 7 columns]"
            ]
          },
          "metadata": {
            "tags": []
          },
          "execution_count": 9
        }
      ]
    },
    {
      "cell_type": "code",
      "metadata": {
        "id": "VQHchJp1hu-A",
        "outputId": "fc7fedbc-af39-4936-bc29-f3faecb96d0a",
        "colab": {
          "base_uri": "https://localhost:8080/",
          "height": 225
        }
      },
      "source": [
        "train.corr()"
      ],
      "execution_count": 10,
      "outputs": [
        {
          "output_type": "execute_result",
          "data": {
            "text/html": [
              "<div>\n",
              "<style scoped>\n",
              "    .dataframe tbody tr th:only-of-type {\n",
              "        vertical-align: middle;\n",
              "    }\n",
              "\n",
              "    .dataframe tbody tr th {\n",
              "        vertical-align: top;\n",
              "    }\n",
              "\n",
              "    .dataframe thead th {\n",
              "        text-align: right;\n",
              "    }\n",
              "</style>\n",
              "<table border=\"1\" class=\"dataframe\">\n",
              "  <thead>\n",
              "    <tr style=\"text-align: right;\">\n",
              "      <th></th>\n",
              "      <th>dbfs</th>\n",
              "      <th>rms</th>\n",
              "      <th>avg</th>\n",
              "      <th>mode</th>\n",
              "      <th>std</th>\n",
              "      <th>dcoffset</th>\n",
              "    </tr>\n",
              "  </thead>\n",
              "  <tbody>\n",
              "    <tr>\n",
              "      <th>dbfs</th>\n",
              "      <td>1.000000</td>\n",
              "      <td>0.751579</td>\n",
              "      <td>0.448142</td>\n",
              "      <td>-0.507775</td>\n",
              "      <td>0.745904</td>\n",
              "      <td>-0.518250</td>\n",
              "    </tr>\n",
              "    <tr>\n",
              "      <th>rms</th>\n",
              "      <td>0.751579</td>\n",
              "      <td>1.000000</td>\n",
              "      <td>0.145995</td>\n",
              "      <td>-0.811643</td>\n",
              "      <td>0.999897</td>\n",
              "      <td>-0.176478</td>\n",
              "    </tr>\n",
              "    <tr>\n",
              "      <th>avg</th>\n",
              "      <td>0.448142</td>\n",
              "      <td>0.145995</td>\n",
              "      <td>1.000000</td>\n",
              "      <td>-0.102367</td>\n",
              "      <td>0.133597</td>\n",
              "      <td>-0.829438</td>\n",
              "    </tr>\n",
              "    <tr>\n",
              "      <th>mode</th>\n",
              "      <td>-0.507775</td>\n",
              "      <td>-0.811643</td>\n",
              "      <td>-0.102367</td>\n",
              "      <td>1.000000</td>\n",
              "      <td>-0.812288</td>\n",
              "      <td>0.090193</td>\n",
              "    </tr>\n",
              "    <tr>\n",
              "      <th>std</th>\n",
              "      <td>0.745904</td>\n",
              "      <td>0.999897</td>\n",
              "      <td>0.133597</td>\n",
              "      <td>-0.812288</td>\n",
              "      <td>1.000000</td>\n",
              "      <td>-0.162709</td>\n",
              "    </tr>\n",
              "    <tr>\n",
              "      <th>dcoffset</th>\n",
              "      <td>-0.518250</td>\n",
              "      <td>-0.176478</td>\n",
              "      <td>-0.829438</td>\n",
              "      <td>0.090193</td>\n",
              "      <td>-0.162709</td>\n",
              "      <td>1.000000</td>\n",
              "    </tr>\n",
              "  </tbody>\n",
              "</table>\n",
              "</div>"
            ],
            "text/plain": [
              "              dbfs       rms       avg      mode       std  dcoffset\n",
              "dbfs      1.000000  0.751579  0.448142 -0.507775  0.745904 -0.518250\n",
              "rms       0.751579  1.000000  0.145995 -0.811643  0.999897 -0.176478\n",
              "avg       0.448142  0.145995  1.000000 -0.102367  0.133597 -0.829438\n",
              "mode     -0.507775 -0.811643 -0.102367  1.000000 -0.812288  0.090193\n",
              "std       0.745904  0.999897  0.133597 -0.812288  1.000000 -0.162709\n",
              "dcoffset -0.518250 -0.176478 -0.829438  0.090193 -0.162709  1.000000"
            ]
          },
          "metadata": {
            "tags": []
          },
          "execution_count": 10
        }
      ]
    },
    {
      "cell_type": "markdown",
      "metadata": {
        "id": "RUsT9HxZiL8i"
      },
      "source": [
        "We can see that rms and dbfs are highly dependent on each other.\n",
        "\n"
      ]
    },
    {
      "cell_type": "code",
      "metadata": {
        "id": "JwjtS7Igiwmz",
        "outputId": "474450ea-53ef-4254-b3f4-dc06f2f3b2e9",
        "colab": {
          "base_uri": "https://localhost:8080/",
          "height": 67
        }
      },
      "source": [
        "target_count=train.target.value_counts()\n",
        "target_count      # dataset is perfectly balanced."
      ],
      "execution_count": 11,
      "outputs": [
        {
          "output_type": "execute_result",
          "data": {
            "text/plain": [
              "silent    1000\n",
              "noise     1000\n",
              "Name: target, dtype: int64"
            ]
          },
          "metadata": {
            "tags": []
          },
          "execution_count": 11
        }
      ]
    },
    {
      "cell_type": "code",
      "metadata": {
        "id": "XQZ5PiiujSHE"
      },
      "source": [
        "def f(s):\n",
        "    if s == \"silent\":\n",
        "        return 0\n",
        "    else:\n",
        "        return 1   #converting noise and silent to 0s and 1."
      ],
      "execution_count": 12,
      "outputs": []
    },
    {
      "cell_type": "code",
      "metadata": {
        "id": "TPUOwkoQmLAX"
      },
      "source": [
        "train['target']=train.target.apply(f)\n",
        "\n",
        "val['target']=val.target.apply(f)\n",
        "\n"
      ],
      "execution_count": 13,
      "outputs": []
    },
    {
      "cell_type": "code",
      "metadata": {
        "id": "H3OhY39FmTDk",
        "outputId": "aef236c1-7855-4152-83ad-2230486c6a67",
        "colab": {
          "base_uri": "https://localhost:8080/",
          "height": 402
        }
      },
      "source": [
        "train  # converted target column to 0 and 1.\n",
        "## silent =0 noise =1"
      ],
      "execution_count": 14,
      "outputs": [
        {
          "output_type": "execute_result",
          "data": {
            "text/html": [
              "<div>\n",
              "<style scoped>\n",
              "    .dataframe tbody tr th:only-of-type {\n",
              "        vertical-align: middle;\n",
              "    }\n",
              "\n",
              "    .dataframe tbody tr th {\n",
              "        vertical-align: top;\n",
              "    }\n",
              "\n",
              "    .dataframe thead th {\n",
              "        text-align: right;\n",
              "    }\n",
              "</style>\n",
              "<table border=\"1\" class=\"dataframe\">\n",
              "  <thead>\n",
              "    <tr style=\"text-align: right;\">\n",
              "      <th></th>\n",
              "      <th>dbfs</th>\n",
              "      <th>rms</th>\n",
              "      <th>avg</th>\n",
              "      <th>mode</th>\n",
              "      <th>std</th>\n",
              "      <th>dcoffset</th>\n",
              "      <th>target</th>\n",
              "    </tr>\n",
              "  </thead>\n",
              "  <tbody>\n",
              "    <tr>\n",
              "      <th>0</th>\n",
              "      <td>0.126036</td>\n",
              "      <td>-0.133237</td>\n",
              "      <td>0.037227</td>\n",
              "      <td>0.488656</td>\n",
              "      <td>-0.131973</td>\n",
              "      <td>0.107063</td>\n",
              "      <td>0</td>\n",
              "    </tr>\n",
              "    <tr>\n",
              "      <th>1</th>\n",
              "      <td>-1.017016</td>\n",
              "      <td>-0.838398</td>\n",
              "      <td>0.033214</td>\n",
              "      <td>0.280042</td>\n",
              "      <td>-0.838826</td>\n",
              "      <td>0.102791</td>\n",
              "      <td>1</td>\n",
              "    </tr>\n",
              "    <tr>\n",
              "      <th>2</th>\n",
              "      <td>-1.177931</td>\n",
              "      <td>-0.891267</td>\n",
              "      <td>0.031486</td>\n",
              "      <td>0.358344</td>\n",
              "      <td>-0.891822</td>\n",
              "      <td>0.102791</td>\n",
              "      <td>1</td>\n",
              "    </tr>\n",
              "    <tr>\n",
              "      <th>3</th>\n",
              "      <td>-0.483691</td>\n",
              "      <td>-0.601385</td>\n",
              "      <td>0.035221</td>\n",
              "      <td>0.489415</td>\n",
              "      <td>-0.601244</td>\n",
              "      <td>0.104927</td>\n",
              "      <td>0</td>\n",
              "    </tr>\n",
              "    <tr>\n",
              "      <th>4</th>\n",
              "      <td>0.021699</td>\n",
              "      <td>-0.233569</td>\n",
              "      <td>0.035451</td>\n",
              "      <td>0.487897</td>\n",
              "      <td>-0.232545</td>\n",
              "      <td>0.104927</td>\n",
              "      <td>0</td>\n",
              "    </tr>\n",
              "    <tr>\n",
              "      <th>...</th>\n",
              "      <td>...</td>\n",
              "      <td>...</td>\n",
              "      <td>...</td>\n",
              "      <td>...</td>\n",
              "      <td>...</td>\n",
              "      <td>...</td>\n",
              "      <td>...</td>\n",
              "    </tr>\n",
              "    <tr>\n",
              "      <th>1995</th>\n",
              "      <td>-0.752365</td>\n",
              "      <td>-0.736510</td>\n",
              "      <td>0.033628</td>\n",
              "      <td>0.490554</td>\n",
              "      <td>-0.736693</td>\n",
              "      <td>0.104927</td>\n",
              "      <td>0</td>\n",
              "    </tr>\n",
              "    <tr>\n",
              "      <th>1996</th>\n",
              "      <td>-1.096543</td>\n",
              "      <td>-0.866342</td>\n",
              "      <td>0.031801</td>\n",
              "      <td>0.098315</td>\n",
              "      <td>-0.866837</td>\n",
              "      <td>0.105530</td>\n",
              "      <td>1</td>\n",
              "    </tr>\n",
              "    <tr>\n",
              "      <th>1997</th>\n",
              "      <td>-0.115356</td>\n",
              "      <td>-0.351089</td>\n",
              "      <td>-0.534629</td>\n",
              "      <td>0.468166</td>\n",
              "      <td>-0.351977</td>\n",
              "      <td>-0.127888</td>\n",
              "      <td>0</td>\n",
              "    </tr>\n",
              "    <tr>\n",
              "      <th>1998</th>\n",
              "      <td>1.277550</td>\n",
              "      <td>1.966369</td>\n",
              "      <td>0.034417</td>\n",
              "      <td>-2.168767</td>\n",
              "      <td>1.972671</td>\n",
              "      <td>0.104927</td>\n",
              "      <td>1</td>\n",
              "    </tr>\n",
              "    <tr>\n",
              "      <th>1999</th>\n",
              "      <td>-0.536752</td>\n",
              "      <td>-0.630958</td>\n",
              "      <td>0.035125</td>\n",
              "      <td>0.488467</td>\n",
              "      <td>-0.630888</td>\n",
              "      <td>0.104927</td>\n",
              "      <td>0</td>\n",
              "    </tr>\n",
              "  </tbody>\n",
              "</table>\n",
              "<p>2000 rows × 7 columns</p>\n",
              "</div>"
            ],
            "text/plain": [
              "          dbfs       rms       avg      mode       std  dcoffset  target\n",
              "0     0.126036 -0.133237  0.037227  0.488656 -0.131973  0.107063       0\n",
              "1    -1.017016 -0.838398  0.033214  0.280042 -0.838826  0.102791       1\n",
              "2    -1.177931 -0.891267  0.031486  0.358344 -0.891822  0.102791       1\n",
              "3    -0.483691 -0.601385  0.035221  0.489415 -0.601244  0.104927       0\n",
              "4     0.021699 -0.233569  0.035451  0.487897 -0.232545  0.104927       0\n",
              "...        ...       ...       ...       ...       ...       ...     ...\n",
              "1995 -0.752365 -0.736510  0.033628  0.490554 -0.736693  0.104927       0\n",
              "1996 -1.096543 -0.866342  0.031801  0.098315 -0.866837  0.105530       1\n",
              "1997 -0.115356 -0.351089 -0.534629  0.468166 -0.351977 -0.127888       0\n",
              "1998  1.277550  1.966369  0.034417 -2.168767  1.972671  0.104927       1\n",
              "1999 -0.536752 -0.630958  0.035125  0.488467 -0.630888  0.104927       0\n",
              "\n",
              "[2000 rows x 7 columns]"
            ]
          },
          "metadata": {
            "tags": []
          },
          "execution_count": 14
        }
      ]
    },
    {
      "cell_type": "markdown",
      "metadata": {
        "id": "uTulrkjxmnNw"
      },
      "source": [
        "Exploratory Data Analysis"
      ]
    },
    {
      "cell_type": "code",
      "metadata": {
        "id": "gtdyV34LmqCy",
        "outputId": "0461bef0-b68e-453b-8521-3b5f2b983e52",
        "colab": {
          "base_uri": "https://localhost:8080/",
          "height": 279
        }
      },
      "source": [
        "y=train['target']  #our dependent variable\n",
        "plot=sns.countplot(train['target'])\n",
        "# plotting the number of target values."
      ],
      "execution_count": 15,
      "outputs": [
        {
          "output_type": "display_data",
          "data": {
            "image/png": "[encoded data removed]",
            "text/plain": [
              "<Figure size 432x288 with 1 Axes>"
            ]
          },
          "metadata": {
            "tags": [],
            "needs_background": "light"
          }
        }
      ]
    },
    {
      "cell_type": "markdown",
      "metadata": {
        "id": "kGbPfciFDgNA"
      },
      "source": [
        "Taking train and validation data"
      ]
    },
    {
      "cell_type": "code",
      "metadata": {
        "id": "_MtrWA0roRxF"
      },
      "source": [
        "X_train=train.iloc[:,:-1]\n",
        "Y_train=train['target']\n",
        "\n",
        "X_test=val.iloc[:,:-1]\n",
        "Y_test=val['target']\n",
        "\n"
      ],
      "execution_count": 16,
      "outputs": []
    },
    {
      "cell_type": "code",
      "metadata": {
        "id": "DFLSaubWoYoy",
        "outputId": "7f57beb2-6b9d-4727-fbbc-6dddf01d2fe0",
        "colab": {
          "base_uri": "https://localhost:8080/",
          "height": 34
        }
      },
      "source": [
        "X_train.shape,Y_train.shape\n"
      ],
      "execution_count": 17,
      "outputs": [
        {
          "output_type": "execute_result",
          "data": {
            "text/plain": [
              "((2000, 6), (2000,))"
            ]
          },
          "metadata": {
            "tags": []
          },
          "execution_count": 17
        }
      ]
    },
    {
      "cell_type": "code",
      "metadata": {
        "id": "Q-kiqff9qjdf",
        "outputId": "08691399-c41e-46cb-fa06-ad6a6221c174",
        "colab": {
          "base_uri": "https://localhost:8080/",
          "height": 34
        }
      },
      "source": [
        "X_test.shape,Y_test.shape"
      ],
      "execution_count": 18,
      "outputs": [
        {
          "output_type": "execute_result",
          "data": {
            "text/plain": [
              "((500, 6), (500,))"
            ]
          },
          "metadata": {
            "tags": []
          },
          "execution_count": 18
        }
      ]
    },
    {
      "cell_type": "markdown",
      "metadata": {
        "id": "3AAUvSBeqnNL"
      },
      "source": [
        "Fitting the models"
      ]
    },
    {
      "cell_type": "code",
      "metadata": {
        "id": "aANjfhGkqo_x",
        "outputId": "d11842f2-c136-4f9a-c012-cfdbabb827d4",
        "colab": {
          "base_uri": "https://localhost:8080/",
          "height": 101
        }
      },
      "source": [
        "from sklearn.linear_model import LogisticRegression\n",
        "logreg=LogisticRegression()\n",
        "logreg.fit(X_train,Y_train)"
      ],
      "execution_count": 19,
      "outputs": [
        {
          "output_type": "execute_result",
          "data": {
            "text/plain": [
              "LogisticRegression(C=1.0, class_weight=None, dual=False, fit_intercept=True,\n",
              "                   intercept_scaling=1, l1_ratio=None, max_iter=100,\n",
              "                   multi_class='auto', n_jobs=None, penalty='l2',\n",
              "                   random_state=None, solver='lbfgs', tol=0.0001, verbose=0,\n",
              "                   warm_start=False)"
            ]
          },
          "metadata": {
            "tags": []
          },
          "execution_count": 19
        }
      ]
    },
    {
      "cell_type": "code",
      "metadata": {
        "id": "yXYwnbLsqxN9"
      },
      "source": [
        "y_pred_lr=logreg.predict(X_test)\n"
      ],
      "execution_count": 20,
      "outputs": []
    },
    {
      "cell_type": "code",
      "metadata": {
        "id": "7055b_c1q1My"
      },
      "source": [
        "from sklearn.metrics import accuracy_score"
      ],
      "execution_count": 21,
      "outputs": []
    },
    {
      "cell_type": "code",
      "metadata": {
        "id": "rPfkuw0zq8fR",
        "outputId": "1883c561-9ef7-499f-d9ac-db88a3bda097",
        "colab": {
          "base_uri": "https://localhost:8080/",
          "height": 34
        }
      },
      "source": [
        "score_lr=round(accuracy_score(y_pred_lr,Y_test)*100,2)\n",
        "print(\"Accuracy achieved from Logistic Regression Model is: \"+str(score_lr)+'%')"
      ],
      "execution_count": 22,
      "outputs": [
        {
          "output_type": "stream",
          "text": [
            "Accuracy achieved from Logistic Regression Model is: 93.6%\n"
          ],
          "name": "stdout"
        }
      ]
    },
    {
      "cell_type": "code",
      "metadata": {
        "id": "V1OcmiNzrE45",
        "outputId": "104dbf06-cc96-4045-aea1-e0cef0f1ef18",
        "colab": {
          "base_uri": "https://localhost:8080/",
          "height": 50
        }
      },
      "source": [
        "cvb=logreg.score(X_train,Y_train)*100\n",
        "bvc=logreg.score(X_test,Y_test)*100\n",
        "print(\"Train accuracy is: \",cvb)\n",
        "print(\"Test accuracy is: \",bvc)  "
      ],
      "execution_count": 23,
      "outputs": [
        {
          "output_type": "stream",
          "text": [
            "Train accuracy is:  94.95\n",
            "Test accuracy is:  93.60000000000001\n"
          ],
          "name": "stdout"
        }
      ]
    },
    {
      "cell_type": "code",
      "metadata": {
        "id": "sBLsrlN9rKRM"
      },
      "source": [
        "##both accuracy are almost similar."
      ],
      "execution_count": 24,
      "outputs": []
    },
    {
      "cell_type": "code",
      "metadata": {
        "id": "_YF3yqCwrSYQ"
      },
      "source": [
        "from sklearn.metrics import confusion_matrix\n",
        "matrix = confusion_matrix(Y_test,y_pred_lr)\n",
        "#plotting confusion matrix"
      ],
      "execution_count": 25,
      "outputs": []
    },
    {
      "cell_type": "code",
      "metadata": {
        "id": "ZpWzcvZbrf61",
        "outputId": "92287c50-96b7-4acb-d97c-aa7c2b610b4e",
        "colab": {
          "base_uri": "https://localhost:8080/",
          "height": 282
        }
      },
      "source": [
        "plt.figure(figsize=(8,4))\n",
        "ax=sns.heatmap(matrix,annot = True, fmt = \"d\")\n",
        "bottom, top = ax.get_ylim()\n",
        "ax.set_ylim(bottom + 0.5, top - 0.5)\n"
      ],
      "execution_count": 26,
      "outputs": [
        {
          "output_type": "execute_result",
          "data": {
            "text/plain": [
              "(2.5, -0.5)"
            ]
          },
          "metadata": {
            "tags": []
          },
          "execution_count": 26
        },
        {
          "output_type": "display_data",
          "data": {
            "image/png": "[encoded data removed]",
            "text/plain": [
              "<Figure size 576x288 with 2 Axes>"
            ]
          },
          "metadata": {
            "tags": [],
            "needs_background": "light"
          }
        }
      ]
    },
    {
      "cell_type": "code",
      "metadata": {
        "id": "uoheg_JL7yGD"
      },
      "source": [
        "from sklearn.metrics import recall_score\n",
        "from sklearn.metrics import precision_score\n"
      ],
      "execution_count": 27,
      "outputs": []
    },
    {
      "cell_type": "code",
      "metadata": {
        "id": "19ye6Han77S3",
        "outputId": "11bd0a76-8255-491b-d569-8a2dbcad71a7",
        "colab": {
          "base_uri": "https://localhost:8080/",
          "height": 50
        }
      },
      "source": [
        "pres=precision_score(Y_test,y_pred_lr)\n",
        "print(\"Precison: \",pres)\n",
        "recall=recall_score(Y_test,y_pred_lr)\n",
        "print(\"Recall: \",recall)"
      ],
      "execution_count": 28,
      "outputs": [
        {
          "output_type": "stream",
          "text": [
            "Precison:  0.943089430894309\n",
            "Recall:  0.928\n"
          ],
          "name": "stdout"
        }
      ]
    },
    {
      "cell_type": "code",
      "metadata": {
        "id": "4TWLf8a_78dT",
        "outputId": "a603fbc3-fdf2-4d62-bdd9-079069727b01",
        "colab": {
          "base_uri": "https://localhost:8080/",
          "height": 34
        }
      },
      "source": [
        "f1=((2*pres*recall)/(pres+recall))\n",
        "print('F1 score: ',f1)  ## F1 score is helpful when false negative and false positive are important."
      ],
      "execution_count": 29,
      "outputs": [
        {
          "output_type": "stream",
          "text": [
            "F1 score:  0.9354838709677419\n"
          ],
          "name": "stdout"
        }
      ]
    },
    {
      "cell_type": "markdown",
      "metadata": {
        "id": "c2qZrY3W8Wj4"
      },
      "source": [
        "2nd Model -KNN"
      ]
    },
    {
      "cell_type": "code",
      "metadata": {
        "id": "FbkrVXf88YnZ"
      },
      "source": [
        "from sklearn.neighbors import KNeighborsClassifier"
      ],
      "execution_count": 30,
      "outputs": []
    },
    {
      "cell_type": "code",
      "metadata": {
        "id": "L3Jr4vpk8mY9"
      },
      "source": [
        "knn=KNeighborsClassifier()\n",
        "knn.fit(X_train,Y_train)\n",
        "\n",
        "y_pred_knn = knn.predict(X_test)\n"
      ],
      "execution_count": 31,
      "outputs": []
    },
    {
      "cell_type": "code",
      "metadata": {
        "id": "qBHfIil_8t0I",
        "outputId": "6f0e190f-cab4-4372-89ef-0523048a387a",
        "colab": {
          "base_uri": "https://localhost:8080/",
          "height": 34
        }
      },
      "source": [
        "score_knn = round(accuracy_score(y_pred_knn,Y_test)*100,2)\n",
        "\n",
        "print(\"The accuracy score achieved using KNN is: \"+str(score_knn)+\" %\")"
      ],
      "execution_count": 32,
      "outputs": [
        {
          "output_type": "stream",
          "text": [
            "The accuracy score achieved using KNN is: 94.0 %\n"
          ],
          "name": "stdout"
        }
      ]
    },
    {
      "cell_type": "code",
      "metadata": {
        "id": "EBpxngiw8yAv",
        "outputId": "46b62ac5-d9b7-4a61-bc25-7d667ac4e5d2",
        "colab": {
          "base_uri": "https://localhost:8080/",
          "height": 50
        }
      },
      "source": [
        "k1=knn.score(X_train,Y_train)\n",
        "k2=knn.score(X_test,Y_test)\n",
        "print('Training Accuracy: ',k1*100,'%')\n",
        "print('Testing Accuracy: ',k2*100,'%')"
      ],
      "execution_count": 33,
      "outputs": [
        {
          "output_type": "stream",
          "text": [
            "Training Accuracy:  96.95 %\n",
            "Testing Accuracy:  94.0 %\n"
          ],
          "name": "stdout"
        }
      ]
    },
    {
      "cell_type": "markdown",
      "metadata": {
        "id": "HT3cCmdLAaLP"
      },
      "source": [
        "Above accuracy shows a little overfitted data..so now I will plot all the accuracies with no. of neighbors and then modify the model."
      ]
    },
    {
      "cell_type": "code",
      "metadata": {
        "id": "9w0fDhZ2AAO6"
      },
      "source": [
        "knn_scores=[]\n",
        "for k in range(1,21):\n",
        "    knn= KNeighborsClassifier(n_neighbors = k)\n",
        "    knn.fit(X_train, Y_train)\n",
        "    knn_scores.append(knn.score(X_test, Y_test))\n",
        "    knn_updated = [round(num, 2) for num in knn_scores]"
      ],
      "execution_count": 34,
      "outputs": []
    },
    {
      "cell_type": "code",
      "metadata": {
        "id": "CkU3txNsAp3s",
        "outputId": "284e15ca-611b-4e13-d71a-89c01725d9cb",
        "colab": {
          "base_uri": "https://localhost:8080/",
          "height": 475
        }
      },
      "source": [
        "plt.figure(figsize=(14,7))\n",
        "plt.plot([k for k in range(1, 21)], knn_updated, color = 'red')\n",
        "for i in range(1,21):\n",
        "    plt.text(i, knn_updated[i-1], (i, knn_updated[i-1]))\n",
        "plt.xticks([i for i in range(1, 21)])\n",
        "plt.xlabel('Number of Neighbors (K)')\n",
        "plt.ylabel('Scores')\n",
        "plt.title('K Neighbors Classifier scores for different K values')"
      ],
      "execution_count": 35,
      "outputs": [
        {
          "output_type": "execute_result",
          "data": {
            "text/plain": [
              "Text(0.5, 1.0, 'K Neighbors Classifier scores for different K values')"
            ]
          },
          "metadata": {
            "tags": []
          },
          "execution_count": 35
        },
        {
          "output_type": "display_data",
          "data": {
            "image/png": "[encoded data removed]",
            "text/plain": [
              "<Figure size 1008x504 with 1 Axes>"
            ]
          },
          "metadata": {
            "tags": [],
            "needs_background": "light"
          }
        }
      ]
    },
    {
      "cell_type": "markdown",
      "metadata": {
        "id": "jBeTRAu4Axq3"
      },
      "source": [
        "Some Neighbors with highest accuracies =5,7,16."
      ]
    },
    {
      "cell_type": "code",
      "metadata": {
        "id": "1Spzl-ZtA4Xd",
        "outputId": "02518cf7-875d-44e4-a302-a850d353099a",
        "colab": {
          "base_uri": "https://localhost:8080/",
          "height": 67
        }
      },
      "source": [
        "knn_new= KNeighborsClassifier(algorithm='brute',n_neighbors=16)\n",
        "knn_new.fit(X_train, Y_train)"
      ],
      "execution_count": 51,
      "outputs": [
        {
          "output_type": "execute_result",
          "data": {
            "text/plain": [
              "KNeighborsClassifier(algorithm='brute', leaf_size=30, metric='minkowski',\n",
              "                     metric_params=None, n_jobs=None, n_neighbors=16, p=2,\n",
              "                     weights='uniform')"
            ]
          },
          "metadata": {
            "tags": []
          },
          "execution_count": 51
        }
      ]
    },
    {
      "cell_type": "code",
      "metadata": {
        "id": "8Lm8ICp5A71U",
        "outputId": "066a739a-e0e2-4c24-d553-1a08c1c7668e",
        "colab": {
          "base_uri": "https://localhost:8080/",
          "height": 34
        }
      },
      "source": [
        "y_pred_knn_new = knn_new.predict(X_test)\n",
        "\n",
        "score_knn_new = round(accuracy_score(y_pred_knn_new,Y_test)*100,2)\n",
        "\n",
        "print(\"The accuracy score achieved using KNN is: \"+str(score_knn_new)+\" %\")"
      ],
      "execution_count": 53,
      "outputs": [
        {
          "output_type": "stream",
          "text": [
            "The accuracy score achieved using KNN is: 93.6 %\n"
          ],
          "name": "stdout"
        }
      ]
    },
    {
      "cell_type": "code",
      "metadata": {
        "id": "4MCCb8C1A-Uv",
        "outputId": "f1ad18cb-d261-4ed6-d531-b8f9c722260f",
        "colab": {
          "base_uri": "https://localhost:8080/",
          "height": 84
        }
      },
      "source": [
        "knn1_new=knn_new.score(X_train,Y_train)\n",
        "knn2_new=knn_new.score(X_test,Y_test)\n",
        "print('Training accuracy:') \n",
        "print(round(knn1_new*100,2),'%')\n",
        "print(\"Testing accuracy:\")\n",
        "print(round(knn2_new*100,2),'%')"
      ],
      "execution_count": 54,
      "outputs": [
        {
          "output_type": "stream",
          "text": [
            "Training accuracy:\n",
            "95.4 %\n",
            "Testing accuracy:\n",
            "93.6 %\n"
          ],
          "name": "stdout"
        }
      ]
    },
    {
      "cell_type": "markdown",
      "metadata": {
        "id": "AhZceiU6FRqC"
      },
      "source": [
        "Even the overall testing accuracy decreased from 94% to 93.6% but the overfitting also decreased slightly therefore we can take this model for consideration now."
      ]
    },
    {
      "cell_type": "markdown",
      "metadata": {
        "id": "uRVFDzHiFdeC"
      },
      "source": [
        "Confusion Matrix\n"
      ]
    },
    {
      "cell_type": "code",
      "metadata": {
        "id": "BnW8SgkGFf4_"
      },
      "source": [
        "matrix_knn_new= confusion_matrix(Y_test, y_pred_knn_new)"
      ],
      "execution_count": 56,
      "outputs": []
    },
    {
      "cell_type": "code",
      "metadata": {
        "id": "co5ciarhFj8R",
        "outputId": "9cb5801b-8a0e-4d93-97ac-793c27da46fa",
        "colab": {
          "base_uri": "https://localhost:8080/",
          "height": 282
        }
      },
      "source": [
        "plt.figure(figsize=(8,4))\n",
        "ax=sns.heatmap(matrix_knn_new,annot = True, fmt = \"d\")\n",
        "bottom, top = ax.get_ylim()\n",
        "ax.set_ylim(bottom + 0.5, top - 0.5)"
      ],
      "execution_count": 58,
      "outputs": [
        {
          "output_type": "execute_result",
          "data": {
            "text/plain": [
              "(2.5, -0.5)"
            ]
          },
          "metadata": {
            "tags": []
          },
          "execution_count": 58
        },
        {
          "output_type": "display_data",
          "data": {
            "image/png": "[encoded data removed]",
            "text/plain": [
              "<Figure size 576x288 with 2 Axes>"
            ]
          },
          "metadata": {
            "tags": [],
            "needs_background": "light"
          }
        }
      ]
    },
    {
      "cell_type": "code",
      "metadata": {
        "id": "8DBPuqBJFrHy",
        "outputId": "b9fbd31c-98cf-41db-a719-f72e4cd17fa4",
        "colab": {
          "base_uri": "https://localhost:8080/",
          "height": 67
        }
      },
      "source": [
        "rec_knn=recall_score(Y_test,y_pred_knn_new)\n",
        "\n",
        "precision_knn = precision_score(Y_test, y_pred_knn_new)\n",
        "\n",
        "f1_knn=((2*precision_knn*rec_knn)/(precision_knn+rec_knn))\n",
        "print('F1 score: ',f1_knn*100)\n",
        "\n",
        "print(\"Precision: \",precision_knn*100)\n",
        "\n",
        "print(\"Recall: \",rec_knn)"
      ],
      "execution_count": 61,
      "outputs": [
        {
          "output_type": "stream",
          "text": [
            "F1 score:  93.4959349593496\n",
            "Precision:  95.0413223140496\n",
            "Recall:  0.92\n"
          ],
          "name": "stdout"
        }
      ]
    },
    {
      "cell_type": "markdown",
      "metadata": {
        "id": "zPtwSVTfGA2b"
      },
      "source": [
        "Comparison of Both Models"
      ]
    },
    {
      "cell_type": "code",
      "metadata": {
        "id": "QcQpCq95GnkD"
      },
      "source": [
        "accuracy=[]\n",
        "classifiers = [ 'Logistic Regression','KNN']\n",
        "models = [KNeighborsClassifier(n_neighbors=16,algorithm='brute'), LogisticRegression()]\n",
        "\n",
        "for i in models:\n",
        "    model = i\n",
        "    model.fit(X_train, Y_train)\n",
        "    score = model.score(X_test, Y_test)\n",
        "    accuracy.append(score)\n"
      ],
      "execution_count": 65,
      "outputs": []
    },
    {
      "cell_type": "code",
      "metadata": {
        "id": "99-5Z3IaGyA9",
        "outputId": "89cc8907-be50-4095-f247-0171a47cb144",
        "colab": {
          "base_uri": "https://localhost:8080/",
          "height": 106
        }
      },
      "source": [
        "summary = pd.DataFrame({'accuracy':accuracy}, index=classifiers)\n",
        "summary"
      ],
      "execution_count": 66,
      "outputs": [
        {
          "output_type": "execute_result",
          "data": {
            "text/html": [
              "<div>\n",
              "<style scoped>\n",
              "    .dataframe tbody tr th:only-of-type {\n",
              "        vertical-align: middle;\n",
              "    }\n",
              "\n",
              "    .dataframe tbody tr th {\n",
              "        vertical-align: top;\n",
              "    }\n",
              "\n",
              "    .dataframe thead th {\n",
              "        text-align: right;\n",
              "    }\n",
              "</style>\n",
              "<table border=\"1\" class=\"dataframe\">\n",
              "  <thead>\n",
              "    <tr style=\"text-align: right;\">\n",
              "      <th></th>\n",
              "      <th>accuracy</th>\n",
              "    </tr>\n",
              "  </thead>\n",
              "  <tbody>\n",
              "    <tr>\n",
              "      <th>Logistic Regression</th>\n",
              "      <td>0.936</td>\n",
              "    </tr>\n",
              "    <tr>\n",
              "      <th>KNN</th>\n",
              "      <td>0.936</td>\n",
              "    </tr>\n",
              "  </tbody>\n",
              "</table>\n",
              "</div>"
            ],
            "text/plain": [
              "                     accuracy\n",
              "Logistic Regression     0.936\n",
              "KNN                     0.936"
            ]
          },
          "metadata": {
            "tags": []
          },
          "execution_count": 66
        }
      ]
    },
    {
      "cell_type": "markdown",
      "metadata": {
        "id": "HmHycJxJHuEz"
      },
      "source": [
        "Accuracy of both models are similar after taking into account the scenario of overfitting..so now we can print their precision and F1 scores for better judgement."
      ]
    },
    {
      "cell_type": "code",
      "metadata": {
        "id": "X9kH_UaoIBuf",
        "outputId": "8ef70232-93bb-4d9b-d822-5bffcc39c447",
        "colab": {
          "base_uri": "https://localhost:8080/",
          "height": 50
        }
      },
      "source": [
        "print(\"Precision for Logistic Regression Model is:\",pres*100)\n",
        "print(\"Precision for KNN Model is:\",precision_knn*100)\n"
      ],
      "execution_count": 69,
      "outputs": [
        {
          "output_type": "stream",
          "text": [
            "Precision for Logistic Regression Model is: 94.3089430894309\n",
            "Precision for KNN Model is: 95.0413223140496\n"
          ],
          "name": "stdout"
        }
      ]
    },
    {
      "cell_type": "code",
      "metadata": {
        "id": "IEoSQr1ZIbIa",
        "outputId": "cb4e5397-df1f-49df-83de-6916e61d574e",
        "colab": {
          "base_uri": "https://localhost:8080/",
          "height": 50
        }
      },
      "source": [
        "print(\"F1 score for Logistic Regression Model is:\",f1*100)\n",
        "print(\"F1 score for Logistic Regression Model is:\",f1_knn*100)"
      ],
      "execution_count": 71,
      "outputs": [
        {
          "output_type": "stream",
          "text": [
            "F1 score for Logistic Regression Model is: 93.54838709677419\n",
            "F1 score for Logistic Regression Model is: 93.4959349593496\n"
          ],
          "name": "stdout"
        }
      ]
    },
    {
      "cell_type": "markdown",
      "metadata": {
        "id": "O2O4uONyIsLx"
      },
      "source": [
        "Based on above observations we can conlude that F1 scores are non-judgemental and precision plays its part in deciding the model.\n",
        "\n",
        "Precision for KNN is better the Logistic Regression.Hence we can opt for KNN model for this problem for further usage.\n"
      ]
    }
  ]
}